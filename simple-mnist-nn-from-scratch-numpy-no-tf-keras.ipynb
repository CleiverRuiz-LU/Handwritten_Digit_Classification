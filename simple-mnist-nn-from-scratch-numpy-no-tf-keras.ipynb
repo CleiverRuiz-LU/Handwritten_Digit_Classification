{
 "cells": [
  {
   "cell_type": "markdown",
   "metadata": {
    "papermill": {
     "duration": 0.012295,
     "end_time": "2020-11-24T15:33:44.585418",
     "exception": false,
     "start_time": "2020-11-24T15:33:44.573123",
     "status": "completed"
    },
    "tags": []
   },
   "source": [
    "# Simple MNIST NN from scratch\n",
    "\n",
    "In this notebook, I implemented a simple two-layer neural network and trained it on the MNIST digit recognizer dataset. It's meant to be an instructional example, through which you can understand the underlying math of neural networks better.\n",
    "\n",
    "Here's a video I made explaining all the math and showing my progress as I coded the network: https://youtu.be/w8yWXqWQYmU"
   ]
  },
  {
   "cell_type": "code",
   "execution_count": 2,
   "metadata": {
    "_cell_guid": "b1076dfc-b9ad-4769-8c92-a6c4dae69d19",
    "_uuid": "8f2839f25d086af736a60e9eeb907d3b93b6e0e5",
    "execution": {
     "iopub.execute_input": "2020-11-24T15:33:44.617819Z",
     "iopub.status.busy": "2020-11-24T15:33:44.616734Z",
     "iopub.status.idle": "2020-11-24T15:33:48.545917Z",
     "shell.execute_reply": "2020-11-24T15:33:48.545192Z"
    },
    "papermill": {
     "duration": 3.947576,
     "end_time": "2020-11-24T15:33:48.546057",
     "exception": false,
     "start_time": "2020-11-24T15:33:44.598481",
     "status": "completed"
    },
    "tags": []
   },
   "outputs": [],
   "source": [
    "import numpy as np\n",
    "import pandas as pd\n",
    "from matplotlib import pyplot as plt\n",
    "\n",
    "data = pd.read_csv('digit-recognizer/train.csv')"
   ]
  },
  {
   "cell_type": "code",
   "execution_count": 4,
   "metadata": {
    "execution": {
     "iopub.execute_input": "2020-11-24T15:33:48.577955Z",
     "iopub.status.busy": "2020-11-24T15:33:48.576778Z",
     "iopub.status.idle": "2020-11-24T15:33:49.353469Z",
     "shell.execute_reply": "2020-11-24T15:33:49.352724Z"
    },
    "papermill": {
     "duration": 0.795759,
     "end_time": "2020-11-24T15:33:49.353603",
     "exception": false,
     "start_time": "2020-11-24T15:33:48.557844",
     "status": "completed"
    },
    "tags": []
   },
   "outputs": [],
   "source": [
    "data = np.array(data)\n",
    "m, n = data.shape\n",
    "np.random.shuffle(data) # shuffle before splitting into dev and training sets\n",
    "\n",
    "data_dev = data[0:1000].T\n",
    "Y_dev = data_dev[0]\n",
    "X_dev = data_dev[1:n]\n",
    "X_dev = X_dev / 255.\n",
    "\n",
    "data_train = data[1000:m].T\n",
    "Y_train = data_train[0]\n",
    "X_train = data_train[1:n]\n",
    "X_train = X_train / 255.\n",
    "_,m_train = X_train.shape"
   ]
  },
  {
   "cell_type": "code",
   "execution_count": 5,
   "metadata": {
    "execution": {
     "iopub.execute_input": "2020-11-24T15:33:49.385574Z",
     "iopub.status.busy": "2020-11-24T15:33:49.384483Z",
     "iopub.status.idle": "2020-11-24T15:33:49.388342Z",
     "shell.execute_reply": "2020-11-24T15:33:49.388923Z"
    },
    "papermill": {
     "duration": 0.023743,
     "end_time": "2020-11-24T15:33:49.389054",
     "exception": false,
     "start_time": "2020-11-24T15:33:49.365311",
     "status": "completed"
    },
    "tags": []
   },
   "outputs": [
    {
     "data": {
      "text/plain": [
       "array([8, 1, 4, ..., 4, 2, 1])"
      ]
     },
     "execution_count": 5,
     "metadata": {},
     "output_type": "execute_result"
    }
   ],
   "source": [
    "Y_train"
   ]
  },
  {
   "cell_type": "markdown",
   "metadata": {
    "papermill": {
     "duration": 0.011724,
     "end_time": "2020-11-24T15:33:49.413261",
     "exception": false,
     "start_time": "2020-11-24T15:33:49.401537",
     "status": "completed"
    },
    "tags": []
   },
   "source": [
    "Our NN will have a simple two-layer architecture. Input layer $a^{[0]}$ will have 784 units corresponding to the 784 pixels in each 28x28 input image. A hidden layer $a^{[1]}$ will have 10 units with ReLU activation, and finally our output layer $a^{[2]}$ will have 10 units corresponding to the ten digit classes with softmax activation.\n",
    "\n",
    "**Forward propagation**\n",
    "\n",
    "$$Z^{[1]} = W^{[1]} X + b^{[1]}$$\n",
    "$$A^{[1]} = g_{\\text{ReLU}}(Z^{[1]}))$$\n",
    "$$Z^{[2]} = W^{[2]} A^{[1]} + b^{[2]}$$\n",
    "$$A^{[2]} = g_{\\text{softmax}}(Z^{[2]})$$\n",
    "\n",
    "**Backward propagation**\n",
    "\n",
    "$$dZ^{[2]} = A^{[2]} - Y$$\n",
    "$$dW^{[2]} = \\frac{1}{m} dZ^{[2]} A^{[1]T}$$\n",
    "$$dB^{[2]} = \\frac{1}{m} \\Sigma {dZ^{[2]}}$$\n",
    "$$dZ^{[1]} = W^{[2]T} dZ^{[2]} .* g^{[1]\\prime} (z^{[1]})$$\n",
    "$$dW^{[1]} = \\frac{1}{m} dZ^{[1]} A^{[0]T}$$\n",
    "$$dB^{[1]} = \\frac{1}{m} \\Sigma {dZ^{[1]}}$$\n",
    "\n",
    "**Parameter updates**\n",
    "\n",
    "$$W^{[2]} := W^{[2]} - \\alpha dW^{[2]}$$\n",
    "$$b^{[2]} := b^{[2]} - \\alpha db^{[2]}$$\n",
    "$$W^{[1]} := W^{[1]} - \\alpha dW^{[1]}$$\n",
    "$$b^{[1]} := b^{[1]} - \\alpha db^{[1]}$$\n",
    "\n",
    "**Vars and shapes**\n",
    "\n",
    "Forward prop\n",
    "\n",
    "- $A^{[0]} = X$: 784 x m\n",
    "- $Z^{[1]} \\sim A^{[1]}$: 10 x m\n",
    "- $W^{[1]}$: 10 x 784 (as $W^{[1]} A^{[0]} \\sim Z^{[1]}$)\n",
    "- $B^{[1]}$: 10 x 1\n",
    "- $Z^{[2]} \\sim A^{[2]}$: 10 x m\n",
    "- $W^{[1]}$: 10 x 10 (as $W^{[2]} A^{[1]} \\sim Z^{[2]}$)\n",
    "- $B^{[2]}$: 10 x 1\n",
    "\n",
    "Backprop\n",
    "\n",
    "- $dZ^{[2]}$: 10 x m ($~A^{[2]}$)\n",
    "- $dW^{[2]}$: 10 x 10\n",
    "- $dB^{[2]}$: 10 x 1\n",
    "- $dZ^{[1]}$: 10 x m ($~A^{[1]}$)\n",
    "- $dW^{[1]}$: 10 x 10\n",
    "- $dB^{[1]}$: 10 x 1"
   ]
  },
  {
   "cell_type": "code",
   "execution_count": 6,
   "metadata": {
    "execution": {
     "iopub.execute_input": "2020-11-24T15:33:49.458553Z",
     "iopub.status.busy": "2020-11-24T15:33:49.457534Z",
     "iopub.status.idle": "2020-11-24T15:33:49.460243Z",
     "shell.execute_reply": "2020-11-24T15:33:49.460754Z"
    },
    "papermill": {
     "duration": 0.035762,
     "end_time": "2020-11-24T15:33:49.460906",
     "exception": false,
     "start_time": "2020-11-24T15:33:49.425144",
     "status": "completed"
    },
    "tags": []
   },
   "outputs": [],
   "source": [
    "def init_params():\n",
    "    W1 = np.random.rand(10, 784) - 0.5\n",
    "    b1 = np.random.rand(10, 1) - 0.5\n",
    "    W2 = np.random.rand(10, 10) - 0.5\n",
    "    b2 = np.random.rand(10, 1) - 0.5\n",
    "    return W1, b1, W2, b2\n",
    "\n",
    "def ReLU(Z):\n",
    "    return np.maximum(Z, 0)\n",
    "\n",
    "def softmax(Z):\n",
    "    A = np.exp(Z) / sum(np.exp(Z))\n",
    "    return A\n",
    "    \n",
    "def forward_prop(W1, b1, W2, b2, X):\n",
    "    Z1 = W1.dot(X) + b1\n",
    "    A1 = ReLU(Z1)\n",
    "    Z2 = W2.dot(A1) + b2\n",
    "    A2 = softmax(Z2)\n",
    "    return Z1, A1, Z2, A2\n",
    "\n",
    "def ReLU_deriv(Z):\n",
    "    return Z > 0\n",
    "\n",
    "def one_hot(Y):\n",
    "    one_hot_Y = np.zeros((Y.size, Y.max() + 1))\n",
    "    one_hot_Y[np.arange(Y.size), Y] = 1\n",
    "    one_hot_Y = one_hot_Y.T\n",
    "    return one_hot_Y\n",
    "\n",
    "def backward_prop(Z1, A1, Z2, A2, W1, W2, X, Y):\n",
    "    one_hot_Y = one_hot(Y)\n",
    "    dZ2 = A2 - one_hot_Y\n",
    "    dW2 = 1 / m * dZ2.dot(A1.T)\n",
    "    db2 = 1 / m * np.sum(dZ2)\n",
    "    dZ1 = W2.T.dot(dZ2) * ReLU_deriv(Z1)\n",
    "    dW1 = 1 / m * dZ1.dot(X.T)\n",
    "    db1 = 1 / m * np.sum(dZ1)\n",
    "    return dW1, db1, dW2, db2\n",
    "\n",
    "def update_params(W1, b1, W2, b2, dW1, db1, dW2, db2, alpha):\n",
    "    W1 = W1 - alpha * dW1\n",
    "    b1 = b1 - alpha * db1    \n",
    "    W2 = W2 - alpha * dW2  \n",
    "    b2 = b2 - alpha * db2    \n",
    "    return W1, b1, W2, b2"
   ]
  },
  {
   "cell_type": "code",
   "execution_count": 7,
   "metadata": {
    "execution": {
     "iopub.execute_input": "2020-11-24T15:33:49.496820Z",
     "iopub.status.busy": "2020-11-24T15:33:49.493109Z",
     "iopub.status.idle": "2020-11-24T15:33:49.499268Z",
     "shell.execute_reply": "2020-11-24T15:33:49.499782Z"
    },
    "papermill": {
     "duration": 0.026744,
     "end_time": "2020-11-24T15:33:49.499906",
     "exception": false,
     "start_time": "2020-11-24T15:33:49.473162",
     "status": "completed"
    },
    "tags": []
   },
   "outputs": [],
   "source": [
    "def get_predictions(A2):\n",
    "    return np.argmax(A2, 0)\n",
    "\n",
    "def get_accuracy(predictions, Y):\n",
    "    print(predictions, Y)\n",
    "    return np.sum(predictions == Y) / Y.size\n",
    "\n",
    "def gradient_descent(X, Y, alpha, iterations):\n",
    "    W1, b1, W2, b2 = init_params()\n",
    "    for i in range(iterations):\n",
    "        Z1, A1, Z2, A2 = forward_prop(W1, b1, W2, b2, X)\n",
    "        dW1, db1, dW2, db2 = backward_prop(Z1, A1, Z2, A2, W1, W2, X, Y)\n",
    "        W1, b1, W2, b2 = update_params(W1, b1, W2, b2, dW1, db1, dW2, db2, alpha)\n",
    "        if i % 10 == 0:\n",
    "            print(\"Iteration: \", i)\n",
    "            predictions = get_predictions(A2)\n",
    "            print(get_accuracy(predictions, Y))\n",
    "    return W1, b1, W2, b2"
   ]
  },
  {
   "cell_type": "code",
   "execution_count": 8,
   "metadata": {
    "execution": {
     "iopub.execute_input": "2020-11-24T15:33:49.529813Z",
     "iopub.status.busy": "2020-11-24T15:33:49.529067Z",
     "iopub.status.idle": "2020-11-24T15:34:33.915250Z",
     "shell.execute_reply": "2020-11-24T15:34:33.914598Z"
    },
    "papermill": {
     "duration": 44.403186,
     "end_time": "2020-11-24T15:34:33.915380",
     "exception": false,
     "start_time": "2020-11-24T15:33:49.512194",
     "status": "completed"
    },
    "tags": []
   },
   "outputs": [
    {
     "name": "stdout",
     "output_type": "stream",
     "text": [
      "Iteration:  0\n",
      "[4 6 1 ... 0 6 9] [8 1 4 ... 4 2 1]\n",
      "0.09546341463414634\n",
      "Iteration:  10\n",
      "[0 6 4 ... 0 6 9] [8 1 4 ... 4 2 1]\n",
      "0.17051219512195123\n",
      "Iteration:  20\n",
      "[5 6 4 ... 3 2 9] [8 1 4 ... 4 2 1]\n",
      "0.25714634146341464\n",
      "Iteration:  30\n",
      "[5 6 4 ... 3 2 1] [8 1 4 ... 4 2 1]\n",
      "0.33051219512195124\n",
      "Iteration:  40\n",
      "[3 1 4 ... 3 2 2] [8 1 4 ... 4 2 1]\n",
      "0.3858536585365854\n",
      "Iteration:  50\n",
      "[3 1 4 ... 3 2 2] [8 1 4 ... 4 2 1]\n",
      "0.4292682926829268\n",
      "Iteration:  60\n",
      "[3 1 4 ... 3 2 2] [8 1 4 ... 4 2 1]\n",
      "0.46670731707317076\n",
      "Iteration:  70\n",
      "[3 1 4 ... 3 2 1] [8 1 4 ... 4 2 1]\n",
      "0.5001707317073171\n",
      "Iteration:  80\n",
      "[3 1 4 ... 3 2 1] [8 1 4 ... 4 2 1]\n",
      "0.531219512195122\n",
      "Iteration:  90\n",
      "[3 1 4 ... 3 2 1] [8 1 4 ... 4 2 1]\n",
      "0.5575853658536586\n",
      "Iteration:  100\n",
      "[3 1 4 ... 3 2 1] [8 1 4 ... 4 2 1]\n",
      "0.5810731707317073\n",
      "Iteration:  110\n",
      "[3 1 4 ... 8 2 1] [8 1 4 ... 4 2 1]\n",
      "0.601609756097561\n",
      "Iteration:  120\n",
      "[3 1 4 ... 8 2 1] [8 1 4 ... 4 2 1]\n",
      "0.619390243902439\n",
      "Iteration:  130\n",
      "[3 1 4 ... 8 2 1] [8 1 4 ... 4 2 1]\n",
      "0.6336829268292683\n",
      "Iteration:  140\n",
      "[3 1 4 ... 8 2 1] [8 1 4 ... 4 2 1]\n",
      "0.6489512195121951\n",
      "Iteration:  150\n",
      "[3 1 4 ... 8 2 1] [8 1 4 ... 4 2 1]\n",
      "0.663219512195122\n",
      "Iteration:  160\n",
      "[3 1 4 ... 4 2 1] [8 1 4 ... 4 2 1]\n",
      "0.6772926829268293\n",
      "Iteration:  170\n",
      "[3 1 4 ... 4 6 1] [8 1 4 ... 4 2 1]\n",
      "0.6899512195121951\n",
      "Iteration:  180\n",
      "[3 1 4 ... 4 6 1] [8 1 4 ... 4 2 1]\n",
      "0.7010975609756097\n",
      "Iteration:  190\n",
      "[3 1 4 ... 4 6 1] [8 1 4 ... 4 2 1]\n",
      "0.7106829268292683\n",
      "Iteration:  200\n",
      "[3 1 4 ... 4 6 1] [8 1 4 ... 4 2 1]\n",
      "0.7197317073170731\n",
      "Iteration:  210\n",
      "[3 1 4 ... 4 6 1] [8 1 4 ... 4 2 1]\n",
      "0.7278536585365853\n",
      "Iteration:  220\n",
      "[3 1 4 ... 4 6 1] [8 1 4 ... 4 2 1]\n",
      "0.7352682926829268\n",
      "Iteration:  230\n",
      "[3 1 4 ... 4 6 1] [8 1 4 ... 4 2 1]\n",
      "0.7424146341463415\n",
      "Iteration:  240\n",
      "[8 1 4 ... 4 6 1] [8 1 4 ... 4 2 1]\n",
      "0.7494390243902439\n",
      "Iteration:  250\n",
      "[8 1 4 ... 4 6 1] [8 1 4 ... 4 2 1]\n",
      "0.7560243902439024\n",
      "Iteration:  260\n",
      "[8 1 4 ... 4 6 1] [8 1 4 ... 4 2 1]\n",
      "0.7623414634146342\n",
      "Iteration:  270\n",
      "[8 1 4 ... 4 6 1] [8 1 4 ... 4 2 1]\n",
      "0.7675609756097561\n",
      "Iteration:  280\n",
      "[8 1 4 ... 4 6 1] [8 1 4 ... 4 2 1]\n",
      "0.7727317073170732\n",
      "Iteration:  290\n",
      "[8 1 4 ... 4 6 1] [8 1 4 ... 4 2 1]\n",
      "0.7771951219512195\n",
      "Iteration:  300\n",
      "[8 1 4 ... 4 6 1] [8 1 4 ... 4 2 1]\n",
      "0.7824146341463415\n",
      "Iteration:  310\n",
      "[8 1 4 ... 4 6 1] [8 1 4 ... 4 2 1]\n",
      "0.7870487804878049\n",
      "Iteration:  320\n",
      "[8 1 4 ... 4 6 1] [8 1 4 ... 4 2 1]\n",
      "0.7905121951219513\n",
      "Iteration:  330\n",
      "[8 1 4 ... 4 6 1] [8 1 4 ... 4 2 1]\n",
      "0.7944390243902439\n",
      "Iteration:  340\n",
      "[8 1 4 ... 4 6 1] [8 1 4 ... 4 2 1]\n",
      "0.7972439024390244\n",
      "Iteration:  350\n",
      "[8 1 4 ... 4 6 1] [8 1 4 ... 4 2 1]\n",
      "0.799829268292683\n",
      "Iteration:  360\n",
      "[8 1 4 ... 4 6 1] [8 1 4 ... 4 2 1]\n",
      "0.8032926829268293\n",
      "Iteration:  370\n",
      "[8 1 4 ... 4 6 1] [8 1 4 ... 4 2 1]\n",
      "0.806609756097561\n",
      "Iteration:  380\n",
      "[8 1 4 ... 4 6 1] [8 1 4 ... 4 2 1]\n",
      "0.8095121951219513\n",
      "Iteration:  390\n",
      "[8 1 4 ... 4 6 1] [8 1 4 ... 4 2 1]\n",
      "0.8122439024390244\n",
      "Iteration:  400\n",
      "[8 1 4 ... 4 6 1] [8 1 4 ... 4 2 1]\n",
      "0.8145365853658536\n",
      "Iteration:  410\n",
      "[8 1 4 ... 4 6 1] [8 1 4 ... 4 2 1]\n",
      "0.8164390243902439\n",
      "Iteration:  420\n",
      "[8 1 4 ... 4 6 1] [8 1 4 ... 4 2 1]\n",
      "0.8188780487804878\n",
      "Iteration:  430\n",
      "[8 1 4 ... 4 6 1] [8 1 4 ... 4 2 1]\n",
      "0.8215853658536585\n",
      "Iteration:  440\n",
      "[8 1 4 ... 4 6 1] [8 1 4 ... 4 2 1]\n",
      "0.8234390243902439\n",
      "Iteration:  450\n",
      "[8 1 4 ... 4 6 1] [8 1 4 ... 4 2 1]\n",
      "0.8253658536585365\n",
      "Iteration:  460\n",
      "[8 1 4 ... 4 6 1] [8 1 4 ... 4 2 1]\n",
      "0.827390243902439\n",
      "Iteration:  470\n",
      "[8 1 4 ... 4 6 1] [8 1 4 ... 4 2 1]\n",
      "0.8294878048780487\n",
      "Iteration:  480\n",
      "[8 1 4 ... 4 6 1] [8 1 4 ... 4 2 1]\n",
      "0.8307560975609756\n",
      "Iteration:  490\n",
      "[8 1 4 ... 4 6 1] [8 1 4 ... 4 2 1]\n",
      "0.8324390243902439\n"
     ]
    }
   ],
   "source": [
    "W1, b1, W2, b2 = gradient_descent(X_train, Y_train, 0.10, 500)"
   ]
  },
  {
   "cell_type": "markdown",
   "metadata": {
    "papermill": {
     "duration": 0.03222,
     "end_time": "2020-11-24T15:34:33.980634",
     "exception": false,
     "start_time": "2020-11-24T15:34:33.948414",
     "status": "completed"
    },
    "tags": []
   },
   "source": [
    "~85% accuracy on training set."
   ]
  },
  {
   "cell_type": "code",
   "execution_count": 9,
   "metadata": {
    "execution": {
     "iopub.execute_input": "2020-11-24T15:34:34.058947Z",
     "iopub.status.busy": "2020-11-24T15:34:34.058192Z",
     "iopub.status.idle": "2020-11-24T15:34:34.061542Z",
     "shell.execute_reply": "2020-11-24T15:34:34.060921Z"
    },
    "papermill": {
     "duration": 0.048197,
     "end_time": "2020-11-24T15:34:34.061656",
     "exception": false,
     "start_time": "2020-11-24T15:34:34.013459",
     "status": "completed"
    },
    "tags": []
   },
   "outputs": [],
   "source": [
    "def make_predictions(X, W1, b1, W2, b2):\n",
    "    _, _, _, A2 = forward_prop(W1, b1, W2, b2, X)\n",
    "    predictions = get_predictions(A2)\n",
    "    return predictions\n",
    "\n",
    "def test_prediction(index, W1, b1, W2, b2):\n",
    "    current_image = X_train[:, index, None]\n",
    "    prediction = make_predictions(X_train[:, index, None], W1, b1, W2, b2)\n",
    "    label = Y_train[index]\n",
    "    print(\"Prediction: \", prediction)\n",
    "    print(\"Label: \", label)\n",
    "    \n",
    "    current_image = current_image.reshape((28, 28)) * 255\n",
    "    plt.gray()\n",
    "    plt.imshow(current_image, interpolation='nearest')\n",
    "    plt.show()"
   ]
  },
  {
   "cell_type": "markdown",
   "metadata": {
    "papermill": {
     "duration": 0.032382,
     "end_time": "2020-11-24T15:34:34.126664",
     "exception": false,
     "start_time": "2020-11-24T15:34:34.094282",
     "status": "completed"
    },
    "tags": []
   },
   "source": [
    "Let's look at a couple of examples:"
   ]
  },
  {
   "cell_type": "code",
   "execution_count": 13,
   "metadata": {
    "execution": {
     "iopub.execute_input": "2020-11-24T15:34:34.198764Z",
     "iopub.status.busy": "2020-11-24T15:34:34.197926Z",
     "iopub.status.idle": "2020-11-24T15:34:34.858256Z",
     "shell.execute_reply": "2020-11-24T15:34:34.857536Z"
    },
    "papermill": {
     "duration": 0.699008,
     "end_time": "2020-11-24T15:34:34.858375",
     "exception": false,
     "start_time": "2020-11-24T15:34:34.159367",
     "status": "completed"
    },
    "tags": []
   },
   "outputs": [
    {
     "name": "stdout",
     "output_type": "stream",
     "text": [
      "Prediction:  [8]\n",
      "Label:  8\n"
     ]
    },
    {
     "data": {
      "image/png": "[encoded data removed]",
      "text/plain": [
       "<Figure size 640x480 with 1 Axes>"
      ]
     },
     "metadata": {},
     "output_type": "display_data"
    },
    {
     "name": "stdout",
     "output_type": "stream",
     "text": [
      "Prediction:  [1]\n",
      "Label:  1\n"
     ]
    },
    {
     "data": {
      "image/png": "[encoded data removed]",
      "text/plain": [
       "<Figure size 640x480 with 1 Axes>"
      ]
     },
     "metadata": {},
     "output_type": "display_data"
    },
    {
     "name": "stdout",
     "output_type": "stream",
     "text": [
      "Prediction:  [4]\n",
      "Label:  4\n"
     ]
    },
    {
     "data": {
      "image/png": "[encoded data removed]",
      "text/plain": [
       "<Figure size 640x480 with 1 Axes>"
      ]
     },
     "metadata": {},
     "output_type": "display_data"
    },
    {
     "name": "stdout",
     "output_type": "stream",
     "text": [
      "Prediction:  [1]\n",
      "Label:  1\n"
     ]
    },
    {
     "data": {
      "image/png": "[encoded data removed]",
      "text/plain": [
       "<Figure size 640x480 with 1 Axes>"
      ]
     },
     "metadata": {},
     "output_type": "display_data"
    }
   ],
   "source": [
    "test_prediction(0, W1, b1, W2, b2)\n",
    "test_prediction(1, W1, b1, W2, b2)\n",
    "test_prediction(2, W1, b1, W2, b2)\n",
    "test_prediction(3, W1, b1, W2, b2)"
   ]
  },
  {
   "cell_type": "markdown",
   "metadata": {
    "papermill": {
     "duration": 0.037333,
     "end_time": "2020-11-24T15:34:34.933186",
     "exception": false,
     "start_time": "2020-11-24T15:34:34.895853",
     "status": "completed"
    },
    "tags": []
   },
   "source": [
    "Finally, let's find the accuracy on the dev set:"
   ]
  },
  {
   "cell_type": "code",
   "execution_count": 9,
   "metadata": {
    "execution": {
     "iopub.execute_input": "2020-11-24T15:34:35.013161Z",
     "iopub.status.busy": "2020-11-24T15:34:35.012371Z",
     "iopub.status.idle": "2020-11-24T15:34:35.033284Z",
     "shell.execute_reply": "2020-11-24T15:34:35.032394Z"
    },
    "papermill": {
     "duration": 0.062985,
     "end_time": "2020-11-24T15:34:35.033457",
     "exception": false,
     "start_time": "2020-11-24T15:34:34.970472",
     "status": "completed"
    },
    "tags": []
   },
   "outputs": [
    {
     "name": "stdout",
     "output_type": "stream",
     "text": [
      "[1 3 0 9 3 2 2 5 9 2 8 2 7 2 4 1 9 9 3 2 2 7 7 5 0 3 6 9 9 5 0 4 2 0 6 5 5\n",
      " 0 5 2 1 6 9 9 1 6 1 4 5 8 1 7 4 3 7 6 7 5 8 8 8 3 9 3 8 7 1 9 0 9 2 5 4 1\n",
      " 6 1 0 9 7 7 6 4 7 3 2 9 1 9 4 8 1 4 1 4 7 2 9 3 4 8 8 0 2 5 5 1 3 3 1 5 7\n",
      " 3 2 8 6 7 8 3 0 9 2 0 3 6 9 4 8 1 9 3 2 1 8 9 2 8 1 3 4 1 8 4 0 6 1 7 3 5\n",
      " 6 9 7 6 0 7 8 0 4 7 6 4 0 5 5 5 2 2 6 6 1 1 3 1 3 7 2 2 7 7 1 0 3 6 6 2 9\n",
      " 9 3 8 7 2 5 1 3 7 7 6 0 4 1 3 1 4 6 3 3 2 9 0 0 0 5 9 1 6 6 9 2 9 2 0 9 0\n",
      " 2 2 3 0 8 4 3 3 4 0 0 5 7 8 1 2 9 9 9 8 3 0 7 9 0 3 1 5 5 1 2 8 4 3 9 6 9\n",
      " 8 5 5 4 7 9 8 5 0 7 4 6 3 7 1 5 0 2 7 6 5 5 5 6 5 4 9 3 9 8 5 4 4 0 3 0 6\n",
      " 3 3 2 4 1 7 4 9 2 2 5 7 4 3 6 3 7 3 5 9 4 5 2 5 8 3 8 4 9 5 0 0 2 1 7 7 9\n",
      " 0 9 0 4 5 0 2 0 8 0 0 8 2 0 7 4 3 4 7 7 4 1 8 1 4 6 8 4 9 1 0 3 8 0 8 0 3\n",
      " 6 6 0 2 1 0 3 3 7 8 1 3 9 6 7 7 5 6 7 8 5 0 2 0 0 1 6 0 4 5 0 9 7 3 7 9 9\n",
      " 0 5 6 6 6 9 7 9 1 3 1 4 3 1 8 4 8 1 5 0 2 9 2 1 2 2 7 3 4 1 4 0 4 0 3 6 1\n",
      " 4 9 9 8 9 8 7 4 3 7 5 6 6 9 8 6 6 5 5 1 6 0 6 8 1 5 5 9 8 8 8 3 1 4 3 1 9\n",
      " 8 2 8 1 1 8 0 4 6 9 6 8 5 7 1 5 5 1 3 9 8 5 3 1 6 9 7 1 2 4 6 2 6 1 9 7 2\n",
      " 4 9 4 9 6 8 1 9 0 0 0 4 4 4 3 5 7 2 1 9 7 8 5 6 8 1 1 2 3 8 3 3 2 6 6 1 2\n",
      " 6 2 3 2 0 7 8 3 1 0 6 0 0 8 2 0 2 1 3 4 7 7 9 4 6 6 6 7 0 0 4 5 2 0 1 3 0\n",
      " 8 9 9 4 6 9 8 6 0 1 0 3 1 6 7 5 1 4 8 3 5 9 5 4 6 1 4 4 0 5 0 7 2 3 1 8 1\n",
      " 9 6 9 8 1 0 5 4 0 6 5 2 7 9 4 6 3 8 0 7 0 0 0 2 8 2 6 4 8 3 9 1 9 9 8 2 4\n",
      " 0 0 0 5 8 4 5 8 9 2 3 7 5 0 9 0 9 3 8 1 7 9 7 7 8 7 6 6 7 9 4 4 7 7 6 1 0\n",
      " 5 5 6 7 9 1 4 0 0 8 3 7 9 4 4 7 9 6 0 9 3 7 0 1 1 7 4 2 2 0 3 0 4 8 8 4 2\n",
      " 5 8 0 0 2 5 2 2 7 7 3 8 9 3 6 4 1 2 8 7 9 6 3 5 1 8 8 7 8 9 1 4 5 5 5 8 8\n",
      " 1 6 8 7 4 4 5 2 0 3 7 4 4 9 2 6 1 3 9 2 4 9 3 4 2 1 4 1 2 1 4 3 5 8 4 7 2\n",
      " 7 2 4 1 5 3 3 5 2 9 9 2 0 8 0 7 6 6 7 0 4 2 4 9 1 8 0 4 3 3 6 7 7 4 3 1 5\n",
      " 9 7 4 3 1 5 4 7 1 4 9 4 1 8 3 6 3 4 1 3 1 6 7 4 8 6 1 6 4 7 6 6 4 0 5 5 8\n",
      " 3 7 6 2 1 9 8 2 1 2 7 5 1 6 4 4 6 5 6 1 9 2 8 6 2 7 7 9 2 1 0 9 1 1 1 0 0\n",
      " 1 9 4 1 4 3 6 6 6 9 7 3 3 9 4 9 4 4 3 3 9 0 7 1 9 1 8 6 2 6 1 3 4 6 0 3 9\n",
      " 6 6 5 7 9 7 6 5 3 7 4 0 3 6 9 9 2 3 7 4 4 8 4 6 6 6 5 9 3 8 8 2 9 8 8 8 7\n",
      " 6] [1 3 0 9 3 2 2 5 5 6 2 2 7 7 9 1 9 3 3 2 2 7 7 5 0 3 6 9 9 5 0 4 6 0 8 5 3\n",
      " 0 5 0 1 6 9 9 1 6 1 4 5 8 1 7 4 3 9 6 7 5 8 8 8 3 9 3 8 7 1 9 0 9 0 5 4 1\n",
      " 6 1 0 9 7 7 6 9 7 3 2 7 1 9 4 8 1 4 2 4 7 2 4 3 4 9 8 0 6 5 5 1 3 3 1 5 7\n",
      " 8 2 8 6 7 8 3 0 9 2 0 3 4 9 4 8 1 9 5 2 1 8 9 2 8 1 1 4 1 5 4 0 6 1 7 3 8\n",
      " 6 4 7 6 0 7 8 0 4 7 6 4 0 5 5 5 7 2 6 6 1 1 3 1 9 7 9 2 7 7 1 0 3 6 6 2 4\n",
      " 9 3 8 7 2 5 8 8 7 7 6 0 4 1 3 1 4 6 3 3 2 9 0 0 0 5 9 1 6 6 9 1 9 2 0 7 0\n",
      " 2 3 3 5 8 4 3 1 4 0 0 5 7 1 1 2 9 9 9 8 5 0 7 8 0 8 1 5 5 1 2 8 4 3 9 6 9\n",
      " 1 3 5 4 9 4 8 5 0 7 4 6 3 7 1 5 0 2 7 6 0 3 8 6 5 4 9 3 9 8 5 4 4 0 5 8 6\n",
      " 3 3 2 4 1 7 4 9 3 0 5 7 9 3 6 3 7 3 5 4 4 5 2 5 8 3 8 4 9 5 6 0 5 1 7 7 9\n",
      " 9 9 0 4 5 0 2 0 9 0 0 8 2 0 8 4 3 4 7 7 6 1 8 1 4 6 8 4 4 1 0 9 0 0 8 0 3\n",
      " 6 6 0 2 1 0 3 3 7 8 1 3 7 6 7 7 5 6 7 8 5 0 5 0 0 1 2 0 9 5 0 9 7 3 8 9 9\n",
      " 0 5 6 6 6 9 7 9 1 3 1 4 3 1 8 4 3 1 5 0 7 9 2 1 2 2 7 3 4 1 9 0 4 0 3 6 1\n",
      " 6 9 9 5 9 8 7 4 3 7 5 6 6 9 8 6 6 8 5 1 6 0 6 8 1 5 5 9 6 8 8 3 1 6 2 1 9\n",
      " 8 2 8 1 1 8 0 4 6 9 6 8 5 7 1 5 5 1 3 9 8 5 3 1 6 9 7 1 2 4 6 2 6 1 9 7 2\n",
      " 0 9 4 9 6 5 8 9 0 0 0 4 4 4 3 5 3 2 1 9 7 8 5 6 7 1 1 2 0 8 3 3 2 6 6 1 2\n",
      " 6 2 3 7 0 7 8 3 1 9 6 0 0 0 2 3 7 1 3 7 7 7 9 4 6 6 6 7 0 9 4 8 2 0 1 3 0\n",
      " 9 9 9 6 6 9 4 6 0 1 0 3 1 6 7 9 1 4 8 8 0 9 5 4 6 1 4 8 0 5 0 3 5 3 1 8 1\n",
      " 7 6 9 8 1 0 5 4 0 6 5 2 7 9 4 6 3 8 0 7 0 0 0 2 8 2 6 4 8 3 9 1 9 4 8 2 4\n",
      " 0 0 0 5 8 4 5 8 5 2 3 7 5 0 9 0 9 3 8 1 9 9 7 7 8 7 6 6 7 9 4 4 7 7 6 1 0\n",
      " 5 5 6 3 9 1 9 0 0 8 3 7 7 4 4 7 9 5 5 9 3 8 0 1 1 7 4 2 2 0 5 0 9 8 8 4 2\n",
      " 5 8 0 0 2 3 2 7 7 7 3 8 4 8 8 4 1 2 8 7 9 6 2 5 1 8 8 7 8 9 1 4 5 5 9 5 8\n",
      " 1 6 8 7 4 9 5 2 0 8 7 9 4 9 2 6 1 3 9 2 4 7 3 4 2 4 4 1 2 1 4 3 3 8 4 7 2\n",
      " 7 2 4 1 9 3 3 1 5 9 9 2 0 2 0 7 6 5 7 0 4 2 4 9 1 8 0 4 3 3 6 5 7 7 3 1 5\n",
      " 9 7 4 3 1 5 4 7 1 4 9 4 8 9 3 6 3 4 1 3 2 6 2 4 8 6 1 6 4 7 6 6 5 0 5 5 5\n",
      " 3 8 6 2 1 9 1 2 1 1 7 6 1 6 4 4 6 5 6 1 9 2 1 6 8 7 7 9 2 1 3 9 1 1 1 0 6\n",
      " 1 9 4 1 4 3 6 6 1 9 7 3 3 9 9 9 4 9 3 3 9 0 7 1 9 1 8 6 7 6 1 3 4 6 0 3 9\n",
      " 6 6 3 7 9 9 6 5 3 7 4 0 3 6 9 9 2 3 7 4 9 8 4 6 6 4 5 9 3 8 8 2 9 8 3 5 7\n",
      " 6]\n"
     ]
    },
    {
     "data": {
      "text/plain": [
       "0.844"
      ]
     },
     "execution_count": 9,
     "metadata": {},
     "output_type": "execute_result"
    }
   ],
   "source": [
    "dev_predictions = make_predictions(X_dev, W1, b1, W2, b2)\n",
    "get_accuracy(dev_predictions, Y_dev)"
   ]
  },
  {
   "cell_type": "markdown",
   "metadata": {
    "papermill": {
     "duration": 0.038287,
     "end_time": "2020-11-24T15:34:35.112466",
     "exception": false,
     "start_time": "2020-11-24T15:34:35.074179",
     "status": "completed"
    },
    "tags": []
   },
   "source": [
    "Still 84% accuracy, so our model generalized from the training data pretty well."
   ]
  }
 ],
 "metadata": {
  "kernelspec": {
   "display_name": "base",
   "language": "python",
   "name": "python3"
  },
  "language_info": {
   "codemirror_mode": {
    "name": "ipython",
    "version": 3
   },
   "file_extension": ".py",
   "mimetype": "text/x-python",
   "name": "python",
   "nbconvert_exporter": "python",
   "pygments_lexer": "ipython3",
   "version": "3.12.4"
  },
  "papermill": {
   "duration": 55.320944,
   "end_time": "2020-11-24T15:34:35.258832",
   "environment_variables": {},
   "exception": null,
   "input_path": "__notebook__.ipynb",
   "output_path": "__notebook__.ipynb",
   "parameters": {},
   "start_time": "2020-11-24T15:33:39.937888",
   "version": "2.1.0"
  }
 },
 "nbformat": 4,
 "nbformat_minor": 4
}
